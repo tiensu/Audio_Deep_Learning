{
 "cells": [
  {
   "cell_type": "code",
   "execution_count": 1,
   "id": "7bbd4f6c",
   "metadata": {},
   "outputs": [],
   "source": [
    "import pandas as pd\n",
    "import torch\n",
    "import copy\n",
    "import time\n",
    "from pathlib import Path\n",
    "from torch import nn\n",
    "from torch.utils.data import random_split\n",
    "from torch.utils.tensorboard import SummaryWriter\n",
    "from sound_classification_dataset import SoundDS\n",
    "from sound_classification_model import AudioClassifier"
   ]
  },
  {
   "cell_type": "code",
   "execution_count": null,
   "id": "cec439c1",
   "metadata": {},
   "outputs": [],
   "source": [
    "# ----------------------------\n",
    "# Prepare training data from Metadata file\n",
    "# ----------------------------\n",
    "\n",
    "data_path = 'UrbanSound8k'\n",
    "\n",
    "# Read metadata file\n",
    "metadata_file = data_path + '/UrbanSound8K.csv'\n",
    "df = pd.read_csv(metadata_file)\n",
    "df.head()\n",
    "\n",
    "# Construct file path by concatenating fold and file name\n",
    "df['relative_path'] = '/fold' + df['fold'].astype(str) + '/' + df['slice_file_name'].astype(str)\n",
    "\n",
    "# Take relevant columns\n",
    "# df = df[['relative_path', 'classID']]\n",
    "df.head()"
   ]
  },
  {
   "cell_type": "code",
   "execution_count": 68,
   "id": "4d7852eb",
   "metadata": {},
   "outputs": [
    {
     "data": {
      "text/plain": [
       "(8732, 9)"
      ]
     },
     "execution_count": 68,
     "metadata": {},
     "output_type": "execute_result"
    }
   ],
   "source": [
    "df.shape"
   ]
  },
  {
   "cell_type": "code",
   "execution_count": 69,
   "id": "61a13d57",
   "metadata": {},
   "outputs": [],
   "source": [
    "writer = SummaryWriter()\n",
    "myds = SoundDS(df, data_path)"
   ]
  },
  {
   "cell_type": "code",
   "execution_count": 70,
   "id": "48e08908",
   "metadata": {},
   "outputs": [],
   "source": [
    "# Random split of 80:20 between training and validation\n",
    "num_items = len(myds)\n",
    "num_train = round(num_items * 0.8)\n",
    "num_val = num_items - num_train\n",
    "train_ds, val_ds = random_split(myds, [num_train, num_val])\n",
    "\n",
    "# Create training and validation data loaders\n",
    "train_dl = torch.utils.data.DataLoader(train_ds, batch_size=128, shuffle=True)\n",
    "val_dl = torch.utils.data.DataLoader(val_ds, batch_size=128, shuffle=False)"
   ]
  },
  {
   "cell_type": "code",
   "execution_count": 71,
   "id": "764950d8",
   "metadata": {},
   "outputs": [
    {
     "data": {
      "text/plain": [
       "55"
      ]
     },
     "execution_count": 71,
     "metadata": {},
     "output_type": "execute_result"
    }
   ],
   "source": [
    "len(train_dl)"
   ]
  },
  {
   "cell_type": "code",
   "execution_count": 27,
   "id": "4a6da670",
   "metadata": {},
   "outputs": [
    {
     "data": {
      "text/plain": [
       "device(type='cuda', index=0)"
      ]
     },
     "execution_count": 27,
     "metadata": {},
     "output_type": "execute_result"
    }
   ],
   "source": [
    "# Create the model and put it on the GPU if available\n",
    "model = nn.DataParallel(AudioClassifier())\n",
    "device = torch.device(\"cuda\" if torch.cuda.is_available() else \"cpu\")\n",
    "model = model.to(device)\n",
    "\n",
    "# Check that it is on Cuda\n",
    "next(model.parameters()).device"
   ]
  },
  {
   "cell_type": "code",
   "execution_count": 28,
   "id": "054562e4",
   "metadata": {},
   "outputs": [],
   "source": [
    "# ----------------------------\n",
    "# Training Loop\n",
    "# ----------------------------\n",
    "def training(model, train_dl, num_epochs):\n",
    "    # Loss Function, Optimizer and Scheduler\n",
    "    criterion = nn.CrossEntropyLoss()\n",
    "    optimizer = torch.optim.Adam(model.parameters(),lr=0.001)\n",
    "    scheduler = torch.optim.lr_scheduler.OneCycleLR(optimizer, max_lr=0.001,\n",
    "                                                steps_per_epoch=int(len(train_dl)),\n",
    "                                                epochs=num_epochs,\n",
    "                                                anneal_strategy='linear')\n",
    "\n",
    "    # Repeat for each epoch\n",
    "    for epoch in range(num_epochs):\n",
    "        running_loss = 0.0\n",
    "        correct_prediction = 0\n",
    "        total_prediction = 0\n",
    "\n",
    "        # Repeat for each batch in the training set\n",
    "        for i, data in enumerate(train_dl):\n",
    "            # Get the input features and target labels, and put them on the GPU\n",
    "            inputs, labels = data[0].to(device), data[1].to(device)\n",
    "\n",
    "            # Normalize the inputs\n",
    "            inputs_m, inputs_s = inputs.mean(), inputs.std()\n",
    "            inputs = (inputs - inputs_m) / inputs_s\n",
    "\n",
    "            # Zero the parameter gradients\n",
    "            optimizer.zero_grad()\n",
    "\n",
    "            # forward + backward + optimize\n",
    "            outputs = model(inputs)\n",
    "            loss = criterion(outputs, labels)\n",
    "            loss.backward()\n",
    "            optimizer.step()\n",
    "            scheduler.step()\n",
    "\n",
    "            # Keep stats for Loss and Accuracy\n",
    "            running_loss += loss.item()\n",
    "\n",
    "            # Get the predicted class with the highest score\n",
    "            _, prediction = torch.max(outputs,1)\n",
    "            # Count of predictions that matched the target label\n",
    "            correct_prediction += (prediction == labels).sum().item()\n",
    "            total_prediction += prediction.shape[0]\n",
    "            #if i % 10 == 0:    # print every 10 mini-batches\n",
    "            #    print('[%d, %5d] loss: %.3f' % (epoch + 1, i + 1, running_loss / 10))\n",
    "\n",
    "        # Print stats at the end of the epoch\n",
    "        num_batches = len(train_dl)\n",
    "        avg_loss = running_loss / num_batches\n",
    "        avg_acc = correct_prediction/total_prediction\n",
    "        writer.add_scalar(\"Loss/train\", avg_loss, epoch)\n",
    "        writer.add_scalar(\"Acc/train\", avg_acc, epoch)\n",
    "        print(f'Epoch: {epoch}, Loss: {avg_loss:.2f}, Accuracy: {avg_acc:.2f}')\n",
    "\n",
    "    print('Finished Training')"
   ]
  },
  {
   "cell_type": "code",
   "execution_count": 29,
   "id": "2d7c53cc",
   "metadata": {},
   "outputs": [
    {
     "name": "stdout",
     "output_type": "stream",
     "text": [
      "Epoch: 0, Loss: 2.22, Accuracy: 0.19\n",
      "Epoch: 1, Loss: 2.10, Accuracy: 0.27\n",
      "Epoch: 2, Loss: 2.01, Accuracy: 0.30\n",
      "Epoch: 3, Loss: 1.93, Accuracy: 0.33\n",
      "Epoch: 4, Loss: 1.86, Accuracy: 0.35\n",
      "Epoch: 5, Loss: 1.78, Accuracy: 0.39\n",
      "Epoch: 6, Loss: 1.70, Accuracy: 0.43\n",
      "Epoch: 7, Loss: 1.61, Accuracy: 0.46\n",
      "Epoch: 8, Loss: 1.54, Accuracy: 0.48\n",
      "Epoch: 9, Loss: 1.47, Accuracy: 0.50\n",
      "Epoch: 10, Loss: 1.40, Accuracy: 0.53\n",
      "Epoch: 11, Loss: 1.36, Accuracy: 0.54\n",
      "Epoch: 12, Loss: 1.30, Accuracy: 0.56\n",
      "Epoch: 13, Loss: 1.25, Accuracy: 0.58\n",
      "Epoch: 14, Loss: 1.21, Accuracy: 0.59\n",
      "Epoch: 15, Loss: 1.17, Accuracy: 0.60\n",
      "Epoch: 16, Loss: 1.12, Accuracy: 0.62\n",
      "Epoch: 17, Loss: 1.08, Accuracy: 0.64\n",
      "Epoch: 18, Loss: 1.05, Accuracy: 0.65\n",
      "Epoch: 19, Loss: 1.01, Accuracy: 0.66\n",
      "Epoch: 20, Loss: 0.98, Accuracy: 0.67\n",
      "Epoch: 21, Loss: 0.95, Accuracy: 0.68\n",
      "Epoch: 22, Loss: 0.90, Accuracy: 0.70\n",
      "Epoch: 23, Loss: 0.88, Accuracy: 0.71\n",
      "Epoch: 24, Loss: 0.86, Accuracy: 0.71\n",
      "Epoch: 25, Loss: 0.83, Accuracy: 0.73\n",
      "Epoch: 26, Loss: 0.81, Accuracy: 0.73\n",
      "Epoch: 27, Loss: 0.79, Accuracy: 0.74\n",
      "Epoch: 28, Loss: 0.76, Accuracy: 0.75\n",
      "Epoch: 29, Loss: 0.74, Accuracy: 0.75\n",
      "Epoch: 30, Loss: 0.71, Accuracy: 0.76\n",
      "Epoch: 31, Loss: 0.69, Accuracy: 0.78\n",
      "Epoch: 32, Loss: 0.67, Accuracy: 0.78\n",
      "Epoch: 33, Loss: 0.66, Accuracy: 0.78\n",
      "Epoch: 34, Loss: 0.64, Accuracy: 0.79\n",
      "Epoch: 35, Loss: 0.63, Accuracy: 0.79\n",
      "Epoch: 36, Loss: 0.60, Accuracy: 0.80\n",
      "Epoch: 37, Loss: 0.59, Accuracy: 0.81\n",
      "Epoch: 38, Loss: 0.58, Accuracy: 0.81\n",
      "Epoch: 39, Loss: 0.58, Accuracy: 0.81\n",
      "Epoch: 40, Loss: 0.57, Accuracy: 0.82\n",
      "Epoch: 41, Loss: 0.55, Accuracy: 0.82\n",
      "Epoch: 42, Loss: 0.54, Accuracy: 0.82\n",
      "Epoch: 43, Loss: 0.53, Accuracy: 0.83\n",
      "Epoch: 44, Loss: 0.52, Accuracy: 0.83\n",
      "Epoch: 45, Loss: 0.49, Accuracy: 0.84\n",
      "Epoch: 46, Loss: 0.50, Accuracy: 0.84\n",
      "Epoch: 47, Loss: 0.49, Accuracy: 0.84\n",
      "Epoch: 48, Loss: 0.48, Accuracy: 0.84\n",
      "Epoch: 49, Loss: 0.48, Accuracy: 0.85\n",
      "Epoch: 50, Loss: 0.46, Accuracy: 0.84\n",
      "Epoch: 51, Loss: 0.45, Accuracy: 0.86\n",
      "Epoch: 52, Loss: 0.45, Accuracy: 0.86\n",
      "Epoch: 53, Loss: 0.45, Accuracy: 0.86\n",
      "Epoch: 54, Loss: 0.44, Accuracy: 0.86\n",
      "Epoch: 55, Loss: 0.43, Accuracy: 0.87\n",
      "Epoch: 56, Loss: 0.42, Accuracy: 0.87\n",
      "Epoch: 57, Loss: 0.41, Accuracy: 0.86\n",
      "Epoch: 58, Loss: 0.42, Accuracy: 0.86\n",
      "Epoch: 59, Loss: 0.41, Accuracy: 0.87\n",
      "Epoch: 60, Loss: 0.41, Accuracy: 0.86\n",
      "Epoch: 61, Loss: 0.41, Accuracy: 0.87\n",
      "Epoch: 62, Loss: 0.41, Accuracy: 0.87\n",
      "Epoch: 63, Loss: 0.40, Accuracy: 0.87\n",
      "Epoch: 64, Loss: 0.39, Accuracy: 0.87\n",
      "Epoch: 65, Loss: 0.39, Accuracy: 0.87\n",
      "Epoch: 66, Loss: 0.38, Accuracy: 0.88\n",
      "Epoch: 67, Loss: 0.38, Accuracy: 0.88\n",
      "Epoch: 68, Loss: 0.38, Accuracy: 0.88\n",
      "Epoch: 69, Loss: 0.38, Accuracy: 0.88\n",
      "Epoch: 70, Loss: 0.37, Accuracy: 0.88\n",
      "Epoch: 71, Loss: 0.38, Accuracy: 0.88\n",
      "Epoch: 72, Loss: 0.36, Accuracy: 0.88\n",
      "Epoch: 73, Loss: 0.38, Accuracy: 0.88\n",
      "Epoch: 74, Loss: 0.36, Accuracy: 0.88\n",
      "Epoch: 75, Loss: 0.36, Accuracy: 0.88\n",
      "Epoch: 76, Loss: 0.35, Accuracy: 0.89\n",
      "Epoch: 77, Loss: 0.35, Accuracy: 0.89\n",
      "Epoch: 78, Loss: 0.35, Accuracy: 0.89\n",
      "Epoch: 79, Loss: 0.34, Accuracy: 0.89\n",
      "Epoch: 80, Loss: 0.35, Accuracy: 0.89\n",
      "Epoch: 81, Loss: 0.34, Accuracy: 0.89\n",
      "Epoch: 82, Loss: 0.34, Accuracy: 0.89\n",
      "Epoch: 83, Loss: 0.34, Accuracy: 0.89\n",
      "Epoch: 84, Loss: 0.34, Accuracy: 0.89\n",
      "Epoch: 85, Loss: 0.33, Accuracy: 0.89\n",
      "Epoch: 86, Loss: 0.34, Accuracy: 0.89\n",
      "Epoch: 87, Loss: 0.33, Accuracy: 0.90\n",
      "Epoch: 88, Loss: 0.33, Accuracy: 0.90\n",
      "Epoch: 89, Loss: 0.33, Accuracy: 0.90\n",
      "Epoch: 90, Loss: 0.34, Accuracy: 0.89\n",
      "Epoch: 91, Loss: 0.33, Accuracy: 0.89\n",
      "Epoch: 92, Loss: 0.33, Accuracy: 0.89\n",
      "Epoch: 93, Loss: 0.32, Accuracy: 0.90\n",
      "Epoch: 94, Loss: 0.32, Accuracy: 0.90\n",
      "Epoch: 95, Loss: 0.33, Accuracy: 0.90\n",
      "Epoch: 96, Loss: 0.33, Accuracy: 0.89\n",
      "Epoch: 97, Loss: 0.32, Accuracy: 0.90\n",
      "Epoch: 98, Loss: 0.31, Accuracy: 0.90\n",
      "Epoch: 99, Loss: 0.31, Accuracy: 0.90\n",
      "Finished Training\n"
     ]
    }
   ],
   "source": [
    "num_epochs=100\n",
    "training(model, train_dl, num_epochs)"
   ]
  },
  {
   "cell_type": "code",
   "execution_count": 30,
   "id": "dba8d504",
   "metadata": {},
   "outputs": [],
   "source": [
    "torch.save(model.state_dict(), 'model.pt')"
   ]
  },
  {
   "cell_type": "code",
   "execution_count": 72,
   "id": "e67c6893",
   "metadata": {},
   "outputs": [],
   "source": [
    "# ----------------------------\n",
    "# Inference\n",
    "# ----------------------------\n",
    "def inference (model, test_dl):\n",
    "    correct_prediction = 0\n",
    "    total_prediction = 0\n",
    "\n",
    "    # Disable gradient updates\n",
    "    with torch.no_grad():\n",
    "        for data in test_dl:\n",
    "            # Get the input features and target labels, and put them on the GPU\n",
    "            inputs, labels = data[0].to(device), data[1].to(device)\n",
    "\n",
    "            # Normalize the inputs\n",
    "            inputs_m, inputs_s = inputs.mean(), inputs.std()\n",
    "            inputs = (inputs - inputs_m) / inputs_s\n",
    "\n",
    "            # Get predictions\n",
    "            outputs = model(inputs)\n",
    "\n",
    "            # Get the predicted class with the highest score\n",
    "            _, prediction = torch.max(outputs,1)\n",
    "            # Count of predictions that matched the target label\n",
    "            correct_prediction += (prediction == labels).sum().item()\n",
    "            total_prediction += prediction.shape[0]\n",
    "        \n",
    "    acc = correct_prediction/total_prediction\n",
    "    print(f'Accuracy: {acc:.2f}, Total items: {total_prediction}')"
   ]
  },
  {
   "cell_type": "code",
   "execution_count": 60,
   "id": "383ba1f4",
   "metadata": {},
   "outputs": [
    {
     "name": "stdout",
     "output_type": "stream",
     "text": [
      "Accuracy: 0.90, Total items: 1746\n"
     ]
    }
   ],
   "source": [
    "# Run inference on trained model with the validation set load best model weights\n",
    "model_inf = nn.DataParallel(AudioClassifier())\n",
    "device = torch.device(\"cuda\" if torch.cuda.is_available() else \"cpu\")\n",
    "model_inf = model_inf.to(device)\n",
    "model_inf.load_state_dict(torch.load('model.pt'))\n",
    "model_inf.eval()\n",
    "inference(model_inf, val_dl)"
   ]
  }
 ],
 "metadata": {
  "kernelspec": {
   "display_name": "Python 3",
   "language": "python",
   "name": "python3"
  },
  "language_info": {
   "codemirror_mode": {
    "name": "ipython",
    "version": 3
   },
   "file_extension": ".py",
   "mimetype": "text/x-python",
   "name": "python",
   "nbconvert_exporter": "python",
   "pygments_lexer": "ipython3",
   "version": "3.8.8"
  }
 },
 "nbformat": 4,
 "nbformat_minor": 5
}
